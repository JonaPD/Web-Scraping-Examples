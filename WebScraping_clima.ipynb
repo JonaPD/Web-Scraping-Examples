{
 "cells": [
  {
   "cell_type": "code",
   "execution_count": 1,
   "id": "753e7fe3-4dd4-4304-99db-91651302622e",
   "metadata": {},
   "outputs": [],
   "source": [
    "import requests\n",
    "import pandas as pd\n",
    "import time\n",
    "import re\n",
    "from bs4 import BeautifulSoup\n",
    "from selenium import webdriver\n",
    "from selenium.webdriver.common.by import By\n",
    "from selenium.webdriver.common.keys import Keys\n",
    "import undetected_chromedriver as uc"
   ]
  },
  {
   "cell_type": "code",
   "execution_count": 10,
   "id": "ba2b5917-2187-47d6-a776-1300997f172e",
   "metadata": {},
   "outputs": [],
   "source": [
    "def temp_city(ciudad):\n",
    "    # Iniciar driver\n",
    "    Browser = uc.Chrome()\n",
    "    url = 'https://www.tiempo.es/'\n",
    "    Browser.get(url)\n",
    "    time.sleep(3)\n",
    "    # Navegacion\n",
    "    try:\n",
    "        Browser.find_element('xpath','//*[@id=\"cmp-btn-accept\"]').click()   \n",
    "    except:\n",
    "        pass\n",
    "    Browser.find_element('xpath','//*[@id=\"search_box\"]').send_keys(f'{ciudad}')\n",
    "    Browser.find_element('xpath','//*[@id=\"submitSearchButton\"]').click()\n",
    "    try:\n",
    "        Browser.find_element('xpath','//*[@id=\"cmp-btn-accept\"]').click()   \n",
    "    except:\n",
    "        pass\n",
    "    Browser.find_element('xpath','//*[@class=\"res\"]').click()\n",
    "    try:\n",
    "        Browser.find_element('xpath','//*[@id=\"cmp-btn-accept\"]').click()   \n",
    "    except:\n",
    "        pass\n",
    "    #Parseo\n",
    "    html = Browser.page_source\n",
    "    soup = BeautifulSoup(html, 'html.parser')\n",
    "    \n",
    "    #Obtencion de datos\n",
    "    temp_actual = int(soup.find('div',{'class':'tmp'}).text.replace('º',''))\n",
    "    contenedor = soup.find('div',{'id':'mainPrediction'}).find('div',{'class':'info'}).find_all('div',{'class':'item'})\n",
    "    temp_maxima = (contenedor[0].text.rstrip())\n",
    "    temp_maxima = int(re.findall(r'\\d+',temp_maxima)[0])\n",
    "    lluvia = int(contenedor[1].text.strip().replace('Lluvia',\"\").replace('%',''))\n",
    "    viento = (contenedor[2].text.strip().replace('km/h','').rstrip())\n",
    "    viento = int(re.findall(r'\\d+',viento)[0])\n",
    "    \n",
    "    Browser.close()\n",
    "    Browser.quit()\n",
    "    return temp_actual,temp_maxima,lluvia,viento"
   ]
  },
  {
   "cell_type": "code",
   "execution_count": 11,
   "id": "3e794405-1548-4821-9b78-99710bbaabba",
   "metadata": {},
   "outputs": [],
   "source": [
    "# Creacion de dataframe\n",
    "df = pd.DataFrame(columns=(['Ciudad','Temp Actual °C','Temp Maximo °C','Prob Lluvia','Viento Km/h']))"
   ]
  },
  {
   "cell_type": "code",
   "execution_count": 12,
   "id": "193d8512-52e1-4932-a9df-9989d4c21ede",
   "metadata": {},
   "outputs": [
    {
     "name": "stdin",
     "output_type": "stream",
     "text": [
      "Ingrese el nombre de la ciudad a buscar: barcelona\n"
     ]
    }
   ],
   "source": [
    "ciudad = input(\"Ingrese el nombre de la ciudad a buscar:\").capitalize()\n",
    "resultado = temp_city(ciudad)"
   ]
  },
  {
   "cell_type": "code",
   "execution_count": 13,
   "id": "706b138b-9a07-4670-b221-d08e8cfc0152",
   "metadata": {},
   "outputs": [
    {
     "data": {
      "text/html": [
       "<div>\n",
       "<style scoped>\n",
       "    .dataframe tbody tr th:only-of-type {\n",
       "        vertical-align: middle;\n",
       "    }\n",
       "\n",
       "    .dataframe tbody tr th {\n",
       "        vertical-align: top;\n",
       "    }\n",
       "\n",
       "    .dataframe thead th {\n",
       "        text-align: right;\n",
       "    }\n",
       "</style>\n",
       "<table border=\"1\" class=\"dataframe\">\n",
       "  <thead>\n",
       "    <tr style=\"text-align: right;\">\n",
       "      <th></th>\n",
       "      <th>Ciudad</th>\n",
       "      <th>Temp Actual °C</th>\n",
       "      <th>Temp Maximo °C</th>\n",
       "      <th>Prob Lluvia</th>\n",
       "      <th>Viento Km/h</th>\n",
       "    </tr>\n",
       "  </thead>\n",
       "  <tbody>\n",
       "    <tr>\n",
       "      <th>0</th>\n",
       "      <td>Barcelona</td>\n",
       "      <td>19</td>\n",
       "      <td>21</td>\n",
       "      <td>43</td>\n",
       "      <td>30</td>\n",
       "    </tr>\n",
       "  </tbody>\n",
       "</table>\n",
       "</div>"
      ],
      "text/plain": [
       "      Ciudad Temp Actual °C Temp Maximo °C Prob Lluvia Viento Km/h\n",
       "0  Barcelona             19             21          43          30"
      ]
     },
     "execution_count": 13,
     "metadata": {},
     "output_type": "execute_result"
    }
   ],
   "source": [
    "#Agregar datos a dataframe\n",
    "temp_actual = resultado[0]\n",
    "temp_maxima = resultado[1]\n",
    "lluvia = resultado[2]\n",
    "viento = resultado[3]\n",
    "df = df._append({'Ciudad':ciudad,'Temp Actual °C':temp_actual,'Temp Maximo °C':temp_maxima,'Prob Lluvia':lluvia,'Viento Km/h':viento}, ignore_index=True)\n",
    "df"
   ]
  }
 ],
 "metadata": {
  "kernelspec": {
   "display_name": "Python 3 (ipykernel)",
   "language": "python",
   "name": "python3"
  },
  "language_info": {
   "codemirror_mode": {
    "name": "ipython",
    "version": 3
   },
   "file_extension": ".py",
   "mimetype": "text/x-python",
   "name": "python",
   "nbconvert_exporter": "python",
   "pygments_lexer": "ipython3",
   "version": "3.11.7"
  }
 },
 "nbformat": 4,
 "nbformat_minor": 5
}
